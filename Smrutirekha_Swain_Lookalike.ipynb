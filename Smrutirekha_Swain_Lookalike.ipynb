{
 "cells": [
  {
   "cell_type": "markdown",
   "id": "9243760b",
   "metadata": {},
   "source": [
    "### Lookalike Model"
   ]
  },
  {
   "cell_type": "code",
   "execution_count": 1,
   "id": "0d7e790e",
   "metadata": {},
   "outputs": [],
   "source": [
    "import numpy as np\n",
    "import pandas as pd\n",
    "import matplotlib.pyplot as plt\n",
    "import seaborn as sns\n",
    "from sklearn.preprocessing import StandardScaler\n",
    "from sklearn.metrics.pairwise import cosine_similarity"
   ]
  },
  {
   "cell_type": "code",
   "execution_count": 3,
   "id": "d15ae778",
   "metadata": {},
   "outputs": [
    {
     "data": {
      "text/html": [
       "<div>\n",
       "<style scoped>\n",
       "    .dataframe tbody tr th:only-of-type {\n",
       "        vertical-align: middle;\n",
       "    }\n",
       "\n",
       "    .dataframe tbody tr th {\n",
       "        vertical-align: top;\n",
       "    }\n",
       "\n",
       "    .dataframe thead th {\n",
       "        text-align: right;\n",
       "    }\n",
       "</style>\n",
       "<table border=\"1\" class=\"dataframe\">\n",
       "  <thead>\n",
       "    <tr style=\"text-align: right;\">\n",
       "      <th></th>\n",
       "      <th>TransactionID</th>\n",
       "      <th>CustomerID</th>\n",
       "      <th>ProductID</th>\n",
       "      <th>TransactionDate</th>\n",
       "      <th>Quantity</th>\n",
       "      <th>TotalValue</th>\n",
       "      <th>Price</th>\n",
       "      <th>CustomerName</th>\n",
       "      <th>Region</th>\n",
       "      <th>SignupDate</th>\n",
       "      <th>ProductName</th>\n",
       "      <th>Category</th>\n",
       "    </tr>\n",
       "  </thead>\n",
       "  <tbody>\n",
       "    <tr>\n",
       "      <th>0</th>\n",
       "      <td>T00001</td>\n",
       "      <td>C0199</td>\n",
       "      <td>P067</td>\n",
       "      <td>2024-08-25 12:38:23</td>\n",
       "      <td>1</td>\n",
       "      <td>5.709367</td>\n",
       "      <td>300.68</td>\n",
       "      <td>Andrea Jenkins</td>\n",
       "      <td>Europe</td>\n",
       "      <td>2022-12-03</td>\n",
       "      <td>ComfortLiving Bluetooth Speaker</td>\n",
       "      <td>Electronics</td>\n",
       "    </tr>\n",
       "    <tr>\n",
       "      <th>1</th>\n",
       "      <td>T00112</td>\n",
       "      <td>C0146</td>\n",
       "      <td>P067</td>\n",
       "      <td>2024-05-27 22:23:54</td>\n",
       "      <td>1</td>\n",
       "      <td>5.709367</td>\n",
       "      <td>300.68</td>\n",
       "      <td>Brittany Harvey</td>\n",
       "      <td>Asia</td>\n",
       "      <td>2024-09-04</td>\n",
       "      <td>ComfortLiving Bluetooth Speaker</td>\n",
       "      <td>Electronics</td>\n",
       "    </tr>\n",
       "    <tr>\n",
       "      <th>2</th>\n",
       "      <td>T00166</td>\n",
       "      <td>C0127</td>\n",
       "      <td>P067</td>\n",
       "      <td>2024-04-25 07:38:55</td>\n",
       "      <td>1</td>\n",
       "      <td>5.709367</td>\n",
       "      <td>300.68</td>\n",
       "      <td>Kathryn Stevens</td>\n",
       "      <td>Europe</td>\n",
       "      <td>2024-04-04</td>\n",
       "      <td>ComfortLiving Bluetooth Speaker</td>\n",
       "      <td>Electronics</td>\n",
       "    </tr>\n",
       "    <tr>\n",
       "      <th>3</th>\n",
       "      <td>T00272</td>\n",
       "      <td>C0087</td>\n",
       "      <td>P067</td>\n",
       "      <td>2024-03-26 22:55:37</td>\n",
       "      <td>2</td>\n",
       "      <td>6.400855</td>\n",
       "      <td>300.68</td>\n",
       "      <td>Travis Campbell</td>\n",
       "      <td>South America</td>\n",
       "      <td>2024-04-11</td>\n",
       "      <td>ComfortLiving Bluetooth Speaker</td>\n",
       "      <td>Electronics</td>\n",
       "    </tr>\n",
       "    <tr>\n",
       "      <th>4</th>\n",
       "      <td>T00363</td>\n",
       "      <td>C0070</td>\n",
       "      <td>P067</td>\n",
       "      <td>2024-03-21 15:10:10</td>\n",
       "      <td>3</td>\n",
       "      <td>6.805767</td>\n",
       "      <td>300.68</td>\n",
       "      <td>Timothy Perez</td>\n",
       "      <td>Europe</td>\n",
       "      <td>2022-03-15</td>\n",
       "      <td>ComfortLiving Bluetooth Speaker</td>\n",
       "      <td>Electronics</td>\n",
       "    </tr>\n",
       "  </tbody>\n",
       "</table>\n",
       "</div>"
      ],
      "text/plain": [
       "  TransactionID CustomerID ProductID      TransactionDate  Quantity  \\\n",
       "0        T00001      C0199      P067  2024-08-25 12:38:23         1   \n",
       "1        T00112      C0146      P067  2024-05-27 22:23:54         1   \n",
       "2        T00166      C0127      P067  2024-04-25 07:38:55         1   \n",
       "3        T00272      C0087      P067  2024-03-26 22:55:37         2   \n",
       "4        T00363      C0070      P067  2024-03-21 15:10:10         3   \n",
       "\n",
       "   TotalValue   Price     CustomerName         Region  SignupDate  \\\n",
       "0    5.709367  300.68   Andrea Jenkins         Europe  2022-12-03   \n",
       "1    5.709367  300.68  Brittany Harvey           Asia  2024-09-04   \n",
       "2    5.709367  300.68  Kathryn Stevens         Europe  2024-04-04   \n",
       "3    6.400855  300.68  Travis Campbell  South America  2024-04-11   \n",
       "4    6.805767  300.68    Timothy Perez         Europe  2022-03-15   \n",
       "\n",
       "                       ProductName     Category  \n",
       "0  ComfortLiving Bluetooth Speaker  Electronics  \n",
       "1  ComfortLiving Bluetooth Speaker  Electronics  \n",
       "2  ComfortLiving Bluetooth Speaker  Electronics  \n",
       "3  ComfortLiving Bluetooth Speaker  Electronics  \n",
       "4  ComfortLiving Bluetooth Speaker  Electronics  "
      ]
     },
     "execution_count": 3,
     "metadata": {},
     "output_type": "execute_result"
    }
   ],
   "source": [
    "# Load clean datasets\n",
    "data = pd.read_csv('data.csv')\n",
    "data.head()"
   ]
  },
  {
   "cell_type": "code",
   "execution_count": 5,
   "id": "e28f29a4",
   "metadata": {},
   "outputs": [],
   "source": [
    "# Feature engineering\n",
    "customer_features = data.groupby('CustomerID').agg({\n",
    "    'TotalValue': 'sum',  # Total spending\n",
    "    'Quantity': 'sum',    # Total quantity purchased\n",
    "    'Price': 'mean'       # Average price of purchased products\n",
    "}).reset_index()"
   ]
  },
  {
   "cell_type": "code",
   "execution_count": 7,
   "id": "80cf9a82",
   "metadata": {},
   "outputs": [],
   "source": [
    "# Normalize features\n",
    "scaler = StandardScaler()\n",
    "customer_features_scaled = scaler.fit_transform(customer_features.iloc[:, 1:])"
   ]
  },
  {
   "cell_type": "code",
   "execution_count": 9,
   "id": "0ed502ff",
   "metadata": {},
   "outputs": [],
   "source": [
    "# Compute cosine similarity\n",
    "similarities = cosine_similarity(customer_features_scaled)"
   ]
  },
  {
   "cell_type": "code",
   "execution_count": 11,
   "id": "393ba757",
   "metadata": {},
   "outputs": [],
   "source": [
    "# Create a mapping for top 3 similar customers\n",
    "lookalike_map = {}\n",
    "for i, customer_id in enumerate(customer_features['CustomerID']):\n",
    "    similar_customers = sorted(\n",
    "        list(enumerate(similarities[i])), key=lambda x: x[1], reverse=True\n",
    "    )[1:4]  # Skip self-similarity\n",
    "    lookalike_map[customer_id] = [(customer_features['CustomerID'][x[0]], x[1]) for x in similar_customers]\n",
    "\n",
    "# Save to Lookalike.csv\n",
    "lookalike_df = pd.DataFrame([\n",
    "    {'CustomerID': k, 'Recommended_Customers': '|'.join([c[0] for c in v]), 'Score': '|'.join([str(c[1]) for c in v])}\n",
    "    for k, v in lookalike_map.items()\n",
    "])\n",
    "lookalike_df.to_csv('Smrutirekha_Swain_Lookalike.csv', index=False)"
   ]
  },
  {
   "cell_type": "code",
   "execution_count": 19,
   "id": "dbdcd745",
   "metadata": {},
   "outputs": [
    {
     "name": "stdout",
     "output_type": "stream",
     "text": [
      "  CustomerID Recommended_Customers  \\\n",
      "0      C0001     C0103|C0191|C0137   \n",
      "\n",
      "                                               Score  \n",
      "0  0.9940273156744326|0.9806803994606358|0.976951...  \n",
      "  CustomerID Recommended_Customers  \\\n",
      "1      C0002     C0060|C0151|C0029   \n",
      "\n",
      "                                               Score  \n",
      "1  0.9995933709405626|0.9988527926089823|0.997841...  \n",
      "  CustomerID Recommended_Customers  \\\n",
      "2      C0003     C0190|C0010|C0111   \n",
      "\n",
      "                                               Score  \n",
      "2  0.9711851065632908|0.970443695061573|0.9606588...  \n",
      "  CustomerID Recommended_Customers  \\\n",
      "3      C0004     C0057|C0109|C0105   \n",
      "\n",
      "                                               Score  \n",
      "3  0.9997221753646898|0.9984632726518661|0.997859...  \n",
      "  CustomerID Recommended_Customers  \\\n",
      "4      C0005     C0128|C0061|C0130   \n",
      "\n",
      "                                               Score  \n",
      "4  0.9996689431481038|0.9996381958512416|0.997009...  \n"
     ]
    }
   ],
   "source": [
    "# Check the lookalikes for the first 20 customers\n",
    "for customer_id in ['C0001', 'C0002', 'C0003', 'C0004', 'C0005']:\n",
    "    customer_data = lookalike_df[lookalike_df['CustomerID'] == customer_id]\n",
    "    print(customer_data)"
   ]
  },
  {
   "cell_type": "code",
   "execution_count": null,
   "id": "784bbe79",
   "metadata": {},
   "outputs": [],
   "source": []
  }
 ],
 "metadata": {
  "kernelspec": {
   "display_name": "Python 3 (ipykernel)",
   "language": "python",
   "name": "python3"
  },
  "language_info": {
   "codemirror_mode": {
    "name": "ipython",
    "version": 3
   },
   "file_extension": ".py",
   "mimetype": "text/x-python",
   "name": "python",
   "nbconvert_exporter": "python",
   "pygments_lexer": "ipython3",
   "version": "3.12.7"
  }
 },
 "nbformat": 4,
 "nbformat_minor": 5
}
